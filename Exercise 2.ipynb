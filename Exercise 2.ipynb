{
 "cells": [
  {
   "cell_type": "markdown",
   "metadata": {
    "pycharm": {
     "name": "#%% md\n"
    }
   },
   "source": [
    "#### Ćwiczenie 1\n",
    "\n",
    "Dana jest nazwa pliku:\n",
    "\n",
    "```python\n",
    "filename = \"01012021_sprzedaz.xlsx\"\n",
    "```\n",
    "\n",
    "Sprawdź korzystając z komend Python'a, czy nazwa pliku zawiera rozszerzenie 'xlsx'. Wyświetl wynik."
   ]
  },
  {
   "cell_type": "code",
   "execution_count": 6,
   "metadata": {
    "pycharm": {
     "name": "#%%\n"
    }
   },
   "outputs": [
    {
     "name": "stdout",
     "output_type": "stream",
     "text": [
      "File 01012021_sprzedaz.xlsx is xlsx?: True\n"
     ]
    }
   ],
   "source": [
    "def if_its_xlsx(name_file: str):\n",
    "    print(f'File {name_file} is xlsx?: {name_file.endswith(\".xlsx\")}')\n",
    "\n",
    "\n",
    "filename = \"01012021_sprzedaz.xlsx\"\n",
    "if_its_xlsx(filename)\n"
   ]
  },
  {
   "cell_type": "markdown",
   "metadata": {
    "pycharm": {
     "name": "#%% md\n"
    }
   },
   "source": [
    "#### Ćwiczenie 2\n",
    "\n",
    "Podany jest ciąg znaków:\n",
    "```python\n",
    "kod = \"DSVNDOICSN\"\n",
    "```\n",
    "Sprawdź, czy wszyskie znaki w ciągu to wielkie litery. Wyświetl wyniki w formie odpowiedzi \"TAK\" lub \"NIE\""
   ]
  },
  {
   "cell_type": "code",
   "execution_count": 7,
   "metadata": {
    "pycharm": {
     "name": "#%%\n"
    }
   },
   "outputs": [
    {
     "data": {
      "text/plain": "'TAK'"
     },
     "execution_count": 7,
     "metadata": {},
     "output_type": "execute_result"
    }
   ],
   "source": [
    "def if_word_is_uppercase(word: str):\n",
    "    if word == word.upper():\n",
    "        return ('TAK')\n",
    "    return ('NIE')\n",
    "\n",
    "\n",
    "kod = \"DSVNDOICSN\"\n",
    "if_word_is_uppercase(kod)"
   ]
  },
  {
   "cell_type": "markdown",
   "metadata": {
    "pycharm": {
     "name": "#%% md\n"
    }
   },
   "source": [
    "#### Ćwiczenie 3\n",
    "\n",
    "Dana jest zmienna numeryczna:\n",
    "```python    \n",
    "liczba = 1.0\n",
    "```\n",
    "Zbadaj czy zmienna jest typu 'int'. Wyświetl wynik w formie odpowiedzi \"TAK\" lub \"NIE\"."
   ]
  },
  {
   "cell_type": "code",
   "execution_count": 8,
   "metadata": {
    "pycharm": {
     "name": "#%%\n"
    }
   },
   "outputs": [
    {
     "data": {
      "text/plain": "'NIE'"
     },
     "execution_count": 8,
     "metadata": {},
     "output_type": "execute_result"
    }
   ],
   "source": [
    "def if_its_var_int(varible):\n",
    "    if type(varible) == int:\n",
    "        return ('TAK')\n",
    "    return ('NIE')\n",
    "\n",
    "\n",
    "liczba = 1.0\n",
    "if_its_var_int(liczba)"
   ]
  },
  {
   "cell_type": "markdown",
   "metadata": {
    "pycharm": {
     "name": "#%% md\n"
    }
   },
   "source": [
    "#### Ćwiczenie 4\n",
    "\n",
    "Podana jest zmienna zawierająca hasło:\n",
    "```python    \n",
    "haslo = \"csk#1dnke4!\"\n",
    "```\n",
    "Sprawdź, czy hasło posiada wymaganą długość 11 znaków. Wyświetl tekst \"Hasło poprawne\" lub \"Hasło zbyt krótkie\" w zależności od wyniku testu."
   ]
  },
  {
   "cell_type": "code",
   "execution_count": 9,
   "metadata": {
    "pycharm": {
     "name": "#%%\n"
    }
   },
   "outputs": [
    {
     "data": {
      "text/plain": "'Hasło poprawne'"
     },
     "execution_count": 9,
     "metadata": {},
     "output_type": "execute_result"
    }
   ],
   "source": [
    "def if_pass_is_11_len(length_pass: int):\n",
    "    if length_pass == 11:\n",
    "        return ('Hasło poprawne')\n",
    "    return ('Hasło zbyt krótkie')\n",
    "\n",
    "\n",
    "haslo = \"csk#1dnke4!\"\n",
    "if_pass_is_11_len(len(haslo))"
   ]
  },
  {
   "cell_type": "markdown",
   "metadata": {
    "pycharm": {
     "name": "#%% md\n"
    }
   },
   "source": [
    "#### Ćwiczenie 5\n",
    "\n",
    "Podana jest zmienna zawierająca hasło:\n",
    "```python    \n",
    "haslo = \"csk#1dnke4!\"\n",
    "```\n",
    "Sprawdź, czy hasło posiada wymaganą długość 11 znaków oraz czy zawiera znak specjalny \"#\". Wyświetl tekst \"Hasło poprawne\" lub \"Hasło niepoprawne\" w zależności od wyniku testu."
   ]
  },
  {
   "cell_type": "code",
   "execution_count": 10,
   "metadata": {
    "pycharm": {
     "name": "#%%\n"
    }
   },
   "outputs": [
    {
     "data": {
      "text/plain": "'Hasło poprawne'"
     },
     "execution_count": 10,
     "metadata": {},
     "output_type": "execute_result"
    }
   ],
   "source": [
    "def if_pass_is_correct(password: str):\n",
    "    if len(password) == 11 and password.find('#'):\n",
    "        return ('Hasło poprawne')\n",
    "    return ('Hasło niepoprawne')\n",
    "\n",
    "\n",
    "haslo = \"csk#1dnke4!\"\n",
    "if_pass_is_correct(haslo)\n"
   ]
  },
  {
   "cell_type": "markdown",
   "metadata": {
    "pycharm": {
     "name": "#%% md\n"
    }
   },
   "source": [
    "#### Ćwiczenie 6\n",
    "\n",
    "Podana jest lista:\n",
    "```python\n",
    "id_projekty = ['02134','24253']\n",
    "```\n",
    "Sprawdź czy na liście występuje identyfikator:\n",
    "```python\n",
    "id = '02135'\n",
    "```\n",
    "Jeśli nie dodaj ten identyfikator do listy, wyświetl wynik."
   ]
  },
  {
   "cell_type": "code",
   "execution_count": 11,
   "metadata": {
    "pycharm": {
     "name": "#%%\n"
    }
   },
   "outputs": [
    {
     "data": {
      "text/plain": "\"Dodano identyfikator: 02135 do listy \\n Lista po dodaniu:['02134', '24253', '02135']\""
     },
     "execution_count": 11,
     "metadata": {},
     "output_type": "execute_result"
    }
   ],
   "source": [
    "def find_id(id, list_id):\n",
    "    if_is_id = id in list_id\n",
    "    if if_is_id == False:\n",
    "        list_id.append(id)\n",
    "        return (f'Dodano identyfikator: {id} do listy \\n Lista po dodaniu:{str(list_id)}')\n",
    "    return (f'{id} już istnieje w liście')\n",
    "\n",
    "\n",
    "id_projekty = ['02134', '24253']\n",
    "id = '02135'\n",
    "find_id(id, id_projekty)"
   ]
  },
  {
   "cell_type": "markdown",
   "metadata": {
    "pycharm": {
     "name": "#%% md\n"
    }
   },
   "source": [
    "#### Ćwiczenie 7\n",
    "\n",
    "Dany jest słownik:\n",
    "\n",
    "```python\n",
    "project_ids = {\n",
    "    '01': 'open', \n",
    "    '02': 'new',\n",
    "    '03': 'in progress',\n",
    "    '04': 'completed'\n",
    "}\n",
    "```\n",
    "\n",
    "Wykorzystując instrukcję warunkową sprawdź, czy status projektu '02' jest ustawiony na 'new'. Jeśli tak, zmień status na 'open'."
   ]
  },
  {
   "cell_type": "code",
   "execution_count": 12,
   "metadata": {
    "pycharm": {
     "name": "#%%\n"
    }
   },
   "outputs": [
    {
     "name": "stdout",
     "output_type": "stream",
     "text": [
      "01 open\n",
      "02 open\n",
      "03 in progress\n",
      "04 completed\n"
     ]
    }
   ],
   "source": [
    "project_ids = {\n",
    "    '01': 'open',\n",
    "    '02': 'new',\n",
    "    '03': 'in progress',\n",
    "    '04': 'completed'\n",
    "}\n",
    "\n",
    "for key, value in project_ids.items():\n",
    "    if (key == '02' and value == 'new'):\n",
    "        value = 'open'\n",
    "    print(key, value)\n",
    "\n"
   ]
  },
  {
   "cell_type": "markdown",
   "metadata": {
    "pycharm": {
     "name": "#%% md\n"
    }
   },
   "source": [
    "#### Ćwiczenie 8\n",
    "\n",
    "Napisz program, który sprawdzi czy podany element:\n",
    "```python\n",
    "item = '001'\n",
    "```\n",
    "występuje na liście\n",
    "```python\n",
    "items = ['001', '000', '003', '005', '006']\n",
    "```\n",
    "Jeśli, tak usuń ten element z listy. Wyświetl wynik."
   ]
  },
  {
   "cell_type": "code",
   "execution_count": 13,
   "metadata": {
    "pycharm": {
     "name": "#%%\n"
    }
   },
   "outputs": [
    {
     "name": "stdout",
     "output_type": "stream",
     "text": [
      "['000', '003', '005', '006']\n"
     ]
    }
   ],
   "source": [
    "def if_item_in_items(Lista, element):\n",
    "    if element in Lista:\n",
    "        Lista.remove(element)\n",
    "    print(Lista)\n",
    "\n",
    "\n",
    "items = ['001', '000', '003', '005', '006']\n",
    "item = '001'\n",
    "if_item_in_items(items, item)"
   ]
  },
  {
   "cell_type": "markdown",
   "metadata": {
    "pycharm": {
     "name": "#%% md\n"
    }
   },
   "source": [
    "#### Ćwiczenie 9\n",
    "\n",
    "Napisz kod korzystający z pętli 'for', który znajdzie wszystkie liczby dwucyfrowe podzielne przez 11. Wyświetl wynik."
   ]
  },
  {
   "cell_type": "code",
   "execution_count": 14,
   "metadata": {
    "pycharm": {
     "name": "#%%\n"
    }
   },
   "outputs": [
    {
     "name": "stdout",
     "output_type": "stream",
     "text": [
      "[11, 22, 33, 44, 55, 66, 77, 88, 99]\n"
     ]
    }
   ],
   "source": [
    "my_list = []\n",
    "for i in range(10, 100):\n",
    "    if i % 11 == 0:\n",
    "        my_list.append(i)\n",
    "print(my_list)\n",
    "\n"
   ]
  },
  {
   "cell_type": "markdown",
   "metadata": {
    "pycharm": {
     "name": "#%% md\n"
    }
   },
   "source": [
    "#### Ćwiczenie 10\n",
    "\n",
    "Napisz kod korzystający z pętli 'for', który znadzie wszystkie liczby dwucyfrowe podzielne przez 11 oraz niepodzielne przez 3. Wyświetl wynik."
   ]
  },
  {
   "cell_type": "code",
   "execution_count": 15,
   "metadata": {
    "pycharm": {
     "name": "#%%\n"
    }
   },
   "outputs": [
    {
     "name": "stdout",
     "output_type": "stream",
     "text": [
      "[11, 22, 44, 55, 77, 88]\n"
     ]
    }
   ],
   "source": [
    "my_list = []\n",
    "for i in range(10, 100):\n",
    "    if i % 11 == 0 and i % 3 != 0:\n",
    "        my_list.append(i)\n",
    "print(my_list)"
   ]
  },
  {
   "cell_type": "markdown",
   "metadata": {
    "pycharm": {
     "name": "#%% md\n"
    }
   },
   "source": [
    "#### Ćwiczenie 11\n",
    "\n",
    "Podana jest lista liczb:\n",
    "```python\n",
    "items = [1, 3, 4, 5, 6, 9, 10, 17, 23, 24]\n",
    "```\n",
    "Korzystając z pętli for napisz kod, który usunie liczby nieparzyste z listy. Wyświetl wynik."
   ]
  },
  {
   "cell_type": "code",
   "execution_count": 16,
   "metadata": {
    "pycharm": {
     "name": "#%%\n"
    }
   },
   "outputs": [
    {
     "name": "stdout",
     "output_type": "stream",
     "text": [
      "[4, 6, 10, 24]\n"
     ]
    }
   ],
   "source": [
    "items = [1, 3, 4, 5, 6, 9, 10, 17, 23, 24]\n",
    "for i in items.copy():\n",
    "    if i % 2 != 0:\n",
    "        items.remove(i)\n",
    "print(items)"
   ]
  },
  {
   "cell_type": "markdown",
   "metadata": {
    "pycharm": {
     "name": "#%% md\n"
    }
   },
   "source": [
    "#### Ćwiczenie 12\n",
    "\n",
    "Podana jest lista liczb:\n",
    "```python\n",
    "items = [1, 5, 3, 2, 2, 4, 2, 4]\n",
    "```\n",
    "Korzystając z pętli for napisz kod, który usunie duplikaty z listy. Kolejność musi zostać zachowana. Wyświetl wynik."
   ]
  },
  {
   "cell_type": "code",
   "execution_count": 17,
   "metadata": {
    "pycharm": {
     "name": "#%%\n"
    }
   },
   "outputs": [
    {
     "name": "stdout",
     "output_type": "stream",
     "text": [
      "[1, 5, 3, 2, 4]\n"
     ]
    }
   ],
   "source": [
    "items = [1, 5, 3, 2, 2, 4, 2, 4]\n",
    "duplicate = 0\n",
    "for i in items.copy():\n",
    "    for ii in items.copy():\n",
    "        if i == ii:\n",
    "            duplicate += 1\n",
    "            if duplicate == 2:\n",
    "                items.remove(ii)\n",
    "    duplicate = 0\n",
    "print(items)\n"
   ]
  },
  {
   "cell_type": "markdown",
   "metadata": {
    "pycharm": {
     "name": "#%% md\n"
    }
   },
   "source": [
    "#### Ćwiczenie 13\n",
    "\n",
    "Napisz kod korzystający z pętli 'for', który z podanego tekstu:\n",
    "```python\n",
    "tekst = 'Python jest bardzo popularnym językiem programowania'\n",
    "```\n",
    "wytnie dokładnie cztery pierwsze wyrazy. zmień wszystkie litery w wyciętych wyrazach na małe. Przekształć wycięte wyrazy do formy listy. Wyświetl wynik."
   ]
  },
  {
   "cell_type": "code",
   "execution_count": 18,
   "metadata": {
    "pycharm": {
     "name": "#%%\n"
    }
   },
   "outputs": [
    {
     "name": "stdout",
     "output_type": "stream",
     "text": [
      "['python', 'jest', 'bardzo', 'popularnym']\n"
     ]
    }
   ],
   "source": [
    "tekst = 'Python jest bardzo popularnym językiem programowania'\n",
    "lista = []\n",
    "iterator = 0\n",
    "for i in tekst.split(' '):\n",
    "    lista.append(i.lower())\n",
    "    iterator += 1\n",
    "    if iterator == 4:\n",
    "        print(lista)\n",
    "        break\n",
    "\n",
    "\n"
   ]
  },
  {
   "cell_type": "markdown",
   "metadata": {
    "pycharm": {
     "name": "#%% md\n"
    }
   },
   "source": [
    "#### Ćwiczenie 14\n",
    "\n",
    "Napisz kod korzystając z pętli 'for', który z podanej listy zwróci listę wartości powyżej progu 0.5.\n",
    "```python\n",
    "hist = [0.21, 0.91, 0.34, 0.55, 0.76, 0.02]\n",
    "```"
   ]
  },
  {
   "cell_type": "code",
   "execution_count": 19,
   "metadata": {
    "pycharm": {
     "name": "#%%\n"
    }
   },
   "outputs": [
    {
     "name": "stdout",
     "output_type": "stream",
     "text": [
      "[0.91, 0.55, 0.76]\n"
     ]
    }
   ],
   "source": [
    "hist = [0.21, 0.91, 0.34, 0.55, 0.76, 0.02]\n",
    "hist2 = []\n",
    "for i in hist:\n",
    "    if i > 0.5:\n",
    "        hist2.append(i)\n",
    "print(hist2)"
   ]
  },
  {
   "cell_type": "markdown",
   "metadata": {
    "pycharm": {
     "name": "#%% md\n"
    }
   },
   "source": [
    "#### Ćwiczenie 15\n",
    "\n",
    "Model uczenia maszynowego zwraca prawdopodobieństwo przynależności do klasy. Jeśli jest ono mniejsze od 0.5 próbka zostaje przypisana do klasy 0 w przeciwnym przypadku do klasy 1.\n",
    "\n",
    "Podana jest lista otrzymanych prawdopodobieństw:\n",
    "```python\n",
    "probabilities = [0.21, 0.91, 0.34, 0.55, 0.76, 0.02]\n",
    "```\n",
    "Napisz kod korzystając z pętli 'for', który przypiszę klasę 0 do wartości mniejszych niż 0.5 i 1 dla wartości większych lub równych 0.5. Wyświetl wynik w formie listy."
   ]
  },
  {
   "cell_type": "code",
   "execution_count": 20,
   "metadata": {
    "pycharm": {
     "name": "#%%\n"
    }
   },
   "outputs": [
    {
     "name": "stdout",
     "output_type": "stream",
     "text": [
      "[0, 1, 0, 1, 1, 0]\n"
     ]
    }
   ],
   "source": [
    "probabilities = [0.21, 0.91, 0.34, 0.55, 0.76, 0.02]\n",
    "lista = []\n",
    "\n",
    "for i in probabilities:\n",
    "    if i < 0.5:\n",
    "        lista.append(0)\n",
    "    if i >= 0.5:\n",
    "        lista.append(1)\n",
    "print(lista)"
   ]
  },
  {
   "cell_type": "markdown",
   "metadata": {
    "pycharm": {
     "name": "#%% md\n"
    }
   },
   "source": [
    "#### Ćwiczenie 16\n",
    "\n",
    "Napisz kod korzystając z pętli 'for', który poda w formie słownika liczbę wystąpięń każdej litery. W tworzonym słowniku litery mają stać się jego kluczami.\n",
    "```python\n",
    "items = ['x', 'y', 'z', 'y', 'x', 'y', 'y', 'z', 'x']\n",
    "```"
   ]
  },
  {
   "cell_type": "code",
   "execution_count": 21,
   "metadata": {
    "pycharm": {
     "name": "#%%\n"
    }
   },
   "outputs": [
    {
     "name": "stdout",
     "output_type": "stream",
     "text": [
      "x 3\n",
      "y 4\n",
      "z 2\n"
     ]
    }
   ],
   "source": [
    "items = ['x', 'y', 'z', 'y', 'x', 'y', 'y', 'z', 'x']\n",
    "slownik = {}\n",
    "iterator = 0\n",
    "for i in items:\n",
    "    for ii in items:\n",
    "        if i == ii:\n",
    "            iterator += 1\n",
    "    slownik[i] = iterator\n",
    "    iterator = 0\n",
    "for key, value in slownik.items():\n",
    "    print(key, value)\n"
   ]
  },
  {
   "cell_type": "markdown",
   "metadata": {
    "pycharm": {
     "name": "#%% md\n"
    }
   },
   "source": [
    "#### Ćwiczenie 17\n",
    "\n",
    "podany jest tekst:\n",
    "```python\n",
    "tekst = \"\"\"Python – język programowania wysokiego poziomu ogólnego przeznaczenia, o rozbudowanym pakiecie bibliotek standardowych, którego ideą przewodnią jest czytelność i klarowność kodu źródłowego.\"\"\"\n",
    "```\n",
    "Korzystając z pętli 'for' utwórz lsitę słów z podanego tekstu. Zmień wszystkie liter na małe. Usuń znaki interpunkcyjne. Na liście pozostaw tylko wyrazy składające się z więcej niż 10 znaków. Wyświetl wynik"
   ]
  },
  {
   "cell_type": "code",
   "execution_count": 22,
   "metadata": {
    "pycharm": {
     "name": "#%%\n"
    }
   },
   "outputs": [
    {
     "name": "stdout",
     "output_type": "stream",
     "text": [
      "['programowania', 'przeznaczenia', 'rozbudowanym', 'standardowych']\n"
     ]
    }
   ],
   "source": [
    "tekst = \"Python – język programowania wysokiego poziomu ogólnego przeznaczenia, o rozbudowanym pakiecie bibliotek standardowych, którego ideą przewodnią jest czytelność i klarowność kodu źródłowego.\"\n",
    "znak = [',', '.', '?', '!', '-', ':']\n",
    "lista = []\n",
    "\n",
    "for i in tekst.split(' '):\n",
    "    for b in znak:\n",
    "        i = i.strip(b)\n",
    "    i.lower()\n",
    "    if len(i) > 10:\n",
    "        lista.append(i)\n",
    "print(lista)\n",
    "\n"
   ]
  },
  {
   "cell_type": "markdown",
   "metadata": {
    "pycharm": {
     "name": "#%% md\n"
    }
   },
   "source": [
    "#### Ćwiczenie 18\n",
    "\n",
    "Podana jest lista indeksów spółek notowanych na GPW:\n",
    "```python\n",
    "indeksy = [\n",
    "    'WIG', 'WIG-banki', 'WIG-budownictwo', 'WIG-CEE', \n",
    "    'WIG-chemia', 'WIG-energia', 'WIG-ESG', 'WIG-górnictwo',\n",
    "    'WIG-informatyka', 'WIG-leki', 'WIG-media', 'WIG-motoryzacja',\n",
    "    'WIG-nieruchomości', 'WIG-odzież', 'WIG-paliwa', 'WIG-Poland',\n",
    "    'WIG-spożywczy', 'WIG-telekomunikacja', 'WIG-Ukraine',\n",
    "    'WIG.GAMES', 'WIG.MS-BAS', 'WIG.MS-FIN', 'WIG.MS-PET',\n",
    "    'WIG20', 'WIG20dvp', 'WIG20lev', 'WIG20short', 'WIG20TR',\n",
    "    'WIG30', 'WIG30TR', 'WIGdiv', 'WIGtech'\n",
    "]\n",
    "```\n",
    "Korzystając z pętli 'for' wybierz i wyświetl z podanej listy tylko indeksy zawierające w nazwie \"20\" lub \"30\"."
   ]
  },
  {
   "cell_type": "code",
   "execution_count": 23,
   "metadata": {
    "pycharm": {
     "name": "#%%\n"
    }
   },
   "outputs": [
    {
     "name": "stdout",
     "output_type": "stream",
     "text": [
      "WIG20\n",
      "WIG20dvp\n",
      "WIG20lev\n",
      "WIG20short\n",
      "WIG20TR\n",
      "WIG30\n",
      "WIG30TR\n"
     ]
    }
   ],
   "source": [
    "indeksy = [\n",
    "    'WIG', 'WIG-banki', 'WIG-budownictwo', 'WIG-CEE',\n",
    "    'WIG-chemia', 'WIG-energia', 'WIG-ESG', 'WIG-górnictwo',\n",
    "    'WIG-informatyka', 'WIG-leki', 'WIG-media', 'WIG-motoryzacja',\n",
    "    'WIG-nieruchomości', 'WIG-odzież', 'WIG-paliwa', 'WIG-Poland',\n",
    "    'WIG-spożywczy', 'WIG-telekomunikacja', 'WIG-Ukraine',\n",
    "    'WIG.GAMES', 'WIG.MS-BAS', 'WIG.MS-FIN', 'WIG.MS-PET',\n",
    "    'WIG20', 'WIG20dvp', 'WIG20lev', 'WIG20short', 'WIG20TR',\n",
    "    'WIG30', 'WIG30TR', 'WIGdiv', 'WIGtech'\n",
    "]\n",
    "\n",
    "for i in indeksy:\n",
    "    if '20' in i or '30' in i:\n",
    "        print(i)"
   ]
  },
  {
   "cell_type": "markdown",
   "metadata": {
    "pycharm": {
     "name": "#%% md\n"
    }
   },
   "source": [
    "#### Ćwiczenie 19\n",
    "\n",
    "Podany jest słownik spółek z indeksu WIG.GAMES. Kluczem słownika jest 3-literowy kod spółki, wartością - cena zmaknięcia:\n",
    "```python\n",
    "gaming = {\n",
    "    '11B': 362.5,\n",
    "    'CDR': 297.0,\n",
    "    'CIG': 0.85,\n",
    "    'PLW': 318.0,\n",
    "    'TEN': 300.0\n",
    "}\n",
    "```\n",
    "Korzystając z pętli 'for' wybierz kody tych spółek, których cena zamknięcia jest większa niż 100.00PLN."
   ]
  },
  {
   "cell_type": "code",
   "execution_count": 24,
   "metadata": {
    "pycharm": {
     "name": "#%%\n"
    }
   },
   "outputs": [
    {
     "name": "stdout",
     "output_type": "stream",
     "text": [
      "11B\n",
      "CDR\n",
      "PLW\n",
      "TEN\n"
     ]
    }
   ],
   "source": [
    "gaming = {\n",
    "    '11B': 362.5,\n",
    "    'CDR': 297.0,\n",
    "    'CIG': 0.85,\n",
    "    'PLW': 318.0,\n",
    "    'TEN': 300.0\n",
    "}\n",
    "\n",
    "for key, value in gaming.items():\n",
    "    if value > 100:\n",
    "        print(key)"
   ]
  },
  {
   "cell_type": "markdown",
   "metadata": {
    "pycharm": {
     "name": "#%% md\n"
    }
   },
   "source": [
    "#### Ćwiczenie 20\n",
    "\n",
    "Podanaj jest lista imion (niektóre są błędne):\n",
    "```python    \n",
    "imiona = ['Jacek', 'Leon', 'Alicja', '32-3c', 'Robert']\n",
    "```\n",
    "Korzystając z pętli 'for' sprawdź, czy każde imię składa się wyłącznie z liter. Jeśli tak wyświetl wynik w formie (dla pierwszego podanego imienia) \"Cześć Jacek!\"."
   ]
  },
  {
   "cell_type": "code",
   "execution_count": 25,
   "metadata": {
    "pycharm": {
     "name": "#%%\n"
    }
   },
   "outputs": [
    {
     "name": "stdout",
     "output_type": "stream",
     "text": [
      "Cześć Jacek\n"
     ]
    }
   ],
   "source": [
    "imiona = ['Jacek', 'Leon', 'Alicja', '32-3c', 'Robert']\n",
    "wykluczenia = [',', '.', '-', '?', '!', '1', '2', '3', '4', '5', '6', '7', '8', '9', '0', ':', '/']\n",
    "only_letter = True\n",
    "for i in imiona:\n",
    "    for ii in wykluczenia:\n",
    "        if ii in i:\n",
    "            only_letter = False\n",
    "    if only_letter:\n",
    "        print(f'Cześć {i}')\n",
    "        break"
   ]
  },
  {
   "cell_type": "markdown",
   "metadata": {
    "pycharm": {
     "name": "#%% md\n"
    }
   },
   "source": [
    "#### Ćwiczenie 21\n",
    "\n",
    "Napisz kod korzystając z pętli, który zwróci wartość TRUE w przypadku, gdy listy będą zawierać co najmniej jeden taki sam element. W przeciwnym przypadku zwróć wartość FALSE. Użyj dyrektywy 'break'."
   ]
  },
  {
   "cell_type": "code",
   "execution_count": 26,
   "metadata": {
    "pycharm": {
     "name": "#%%\n"
    }
   },
   "outputs": [
    {
     "name": "stdout",
     "output_type": "stream",
     "text": [
      "True\n"
     ]
    }
   ],
   "source": [
    "def if_in_list_is_duplicate(lista, lista2):\n",
    "    for i in lista:\n",
    "        duplicate = False\n",
    "        for ii in lista2:\n",
    "            if i == ii:\n",
    "                duplicate = True\n",
    "        if duplicate:\n",
    "            print(duplicate)\n",
    "            break\n",
    "        print(duplicate)\n",
    "\n",
    "\n",
    "lista_imion = ['Jacek', 'Leon', 'Alicja', '32-3c', 'Robert']\n",
    "lista_imion2 = ['Jacek', 'Leon', 'Alicja', '32-3c', 'Robert']\n",
    "if_in_list_is_duplicate(lista_imion, lista_imion2)"
   ]
  },
  {
   "cell_type": "markdown",
   "metadata": {
    "pycharm": {
     "name": "#%% md\n"
    }
   },
   "source": [
    "#### Ćwiczenie 22\n",
    "\n",
    "Podana jest lista znaczników:\n",
    "```python\n",
    "tag = ['holiday', 'sport', 'fit', None, 'fashion']\n",
    "```\n",
    "Sprawdź, czy każdy element tej listy jest typu 'str'. Jeśli tak, wyświetl wartość TRUE, w przeciwnym przypadku FALSE. Użyj instrukcji 'break' wewnątrz pętli."
   ]
  },
  {
   "cell_type": "code",
   "execution_count": 27,
   "metadata": {
    "pycharm": {
     "name": "#%%\n"
    }
   },
   "outputs": [
    {
     "name": "stdout",
     "output_type": "stream",
     "text": [
      "False\n"
     ]
    }
   ],
   "source": [
    "def if_string(lista):\n",
    "    for i in lista:\n",
    "        if type(i) != str:\n",
    "            print(False)\n",
    "            break\n",
    "        if lista[-1] == i and type(i) == str:\n",
    "            print(True)\n",
    "\n",
    "\n",
    "tag = ['holiday', 'sport', None, 'fit', 'fashion']\n",
    "if_string(tag)"
   ]
  },
  {
   "cell_type": "markdown",
   "metadata": {
    "pycharm": {
     "name": "#%% md\n"
    }
   },
   "source": [
    "#### Ćwiczenie 23\n",
    "\n",
    "Napisz kod korzystając z pętli, który sprawdzi czy podana liczba jest liczbą pierwszą. Użyj pętli i dyrektywy 'break'\n",
    "```python    \n",
    "liczba = 13\n",
    "```"
   ]
  },
  {
   "cell_type": "code",
   "execution_count": 28,
   "metadata": {
    "pycharm": {
     "name": "#%%\n"
    }
   },
   "outputs": [
    {
     "name": "stdout",
     "output_type": "stream",
     "text": [
      "True\n"
     ]
    }
   ],
   "source": [
    "def if_firstnumber(liczba: int):\n",
    "    i = 3\n",
    "    var_bool = None\n",
    "    if liczba == 3:\n",
    "            var_bool = True\n",
    "    while i != liczba:\n",
    "        if liczba == 2 and liczba == 3:\n",
    "            var_bool = True\n",
    "            break\n",
    "        if liczba % 2 == 0 or liczba <= 1:\n",
    "            var_bool = False\n",
    "            break\n",
    "        if liczba % i == 0:\n",
    "            var_bool = False\n",
    "            break\n",
    "        i += 1\n",
    "        var_bool = True\n",
    "    print(var_bool)\n",
    "\n",
    "\n",
    "liczba = 13\n",
    "if_firstnumber(liczba)"
   ]
  },
  {
   "cell_type": "markdown",
   "metadata": {
    "pycharm": {
     "name": "#%% md\n"
    }
   },
   "source": [
    "#### Ćwiczenie 24\n",
    "\n",
    "Podana jest lista spółek wraz z ceną zamknięcia podaną w PLN lub USD:\n",
    "```python\n",
    "indeks = {\n",
    "    '11B': [362.5, 'PLN'],\n",
    "    'CDR': [74.25, 'USD'],\n",
    "    'CIG': [0.85, 'PLN'],\n",
    "    'PLW': [79.5, 'USD'],\n",
    "    'TEN': [300.0, 'PLN']\n",
    "}\n",
    "```\n",
    "Korzystając z dyrektywy 'continue' napisz pętlę która pozwoli zmienić w podanej zmiennej cenę wyrażoną w USD na cenę wyrażoną w PLN. Przyjmij kurs wymiany USD->PLN = 4.0"
   ]
  },
  {
   "cell_type": "code",
   "execution_count": 29,
   "metadata": {
    "pycharm": {
     "name": "#%%\n"
    }
   },
   "outputs": [
    {
     "name": "stdout",
     "output_type": "stream",
     "text": [
      "11B [362.5, 'PLN']\n",
      "CDR [297.0, 'PLN']\n",
      "CIG [0.85, 'PLN']\n",
      "PLW [318.0, 'PLN']\n",
      "TEN [300.0, 'PLN']\n"
     ]
    }
   ],
   "source": [
    "indeks = {\n",
    "    '11B': [362.5, 'PLN'],\n",
    "    'CDR': [74.25, 'USD'],\n",
    "    'CIG': [0.85, 'PLN'],\n",
    "    'PLW': [79.5, 'USD'],\n",
    "    'TEN': [300.0, 'PLN']\n",
    "}\n",
    "\n",
    "for key, value in indeks.items():\n",
    "    if value[1] == \"USD\":\n",
    "        value[0] = value[0] * 4.0\n",
    "        value[1] = 'PLN'\n",
    "    print(key, value)\n",
    "#nie widzę sensu stosowania tutaj continue :)"
   ]
  },
  {
   "cell_type": "markdown",
   "metadata": {
    "pycharm": {
     "name": "#%% md\n"
    }
   },
   "source": [
    "#### Ćwiczenie 25\n",
    "\n",
    "Podana jest niepełna lista imion (jednego brak):\n",
    "```python\n",
    "imiona = ['Jacek', 'Leon', 'Alicja', None, 'Robert']\n",
    "```\n",
    "Posługując się pętlą z dyrektywą 'continue' wyświetl tylko elementy listy zawierające poprawne imiona."
   ]
  },
  {
   "cell_type": "code",
   "execution_count": 30,
   "metadata": {
    "pycharm": {
     "name": "#%%\n"
    }
   },
   "outputs": [
    {
     "name": "stdout",
     "output_type": "stream",
     "text": [
      "Jacek\n",
      "Leon\n",
      "Alicja\n",
      "Robert\n"
     ]
    }
   ],
   "source": [
    "imiona = ['Jacek', 'Leon', 'Alicja', None, 'Robert']\n",
    "for i in imiona:\n",
    "    if type(i) != str:\n",
    "        continue\n",
    "    print(i)\n"
   ]
  },
  {
   "cell_type": "markdown",
   "source": [],
   "metadata": {
    "collapsed": false,
    "pycharm": {
     "name": "#%% md\n"
    }
   }
  },
  {
   "cell_type": "markdown",
   "metadata": {
    "pycharm": {
     "name": "#%% md\n"
    }
   },
   "source": [
    "#### Ćwiczenie 26\n",
    "\n",
    "Korzystając z pętli 'while' oraz dyrektywy 'break' oblicz i wyświetl 10 pierwszych liczb pierwszych. "
   ]
  },
  {
   "cell_type": "code",
   "execution_count": 31,
   "metadata": {
    "pycharm": {
     "name": "#%%\n"
    }
   },
   "outputs": [
    {
     "name": "stdout",
     "output_type": "stream",
     "text": [
      "3\n",
      "5\n",
      "7\n",
      "11\n",
      "13\n",
      "17\n",
      "19\n",
      "23\n",
      "29\n",
      "31\n"
     ]
    }
   ],
   "source": [
    "def if_firstnumber(liczba: int):\n",
    "    i = 3\n",
    "    var_bool = None\n",
    "    if liczba == 3:\n",
    "            var_bool = True\n",
    "            return var_bool\n",
    "    while i != liczba:\n",
    "        if liczba == 2 and liczba == 3:\n",
    "            var_bool = True\n",
    "            break\n",
    "        if liczba % 2 == 0 or liczba <= 1:\n",
    "            var_bool = False\n",
    "            break\n",
    "        if liczba % i == 0:\n",
    "            var_bool = False\n",
    "            break\n",
    "        i += 1\n",
    "        var_bool = True\n",
    "    return var_bool\n",
    "\n",
    "iterator = 0\n",
    "liczba = 1\n",
    "\n",
    "while iterator < 10:\n",
    "    if if_firstnumber(liczba) == True:\n",
    "        print(liczba)\n",
    "        iterator += 1\n",
    "        liczba += 1\n",
    "    else:\n",
    "        liczba += 1\n",
    "        continue\n",
    "\n"
   ]
  },
  {
   "cell_type": "markdown",
   "metadata": {
    "pycharm": {
     "name": "#%% md\n"
    }
   },
   "source": [
    "#### Ćwiczenie 27\n",
    "\n",
    "Wykorzystująć pętle 'while' policz ile lat trzeba czekać, aby podwoić kwotę 1000PLN wiedząc, że roczna stopa procentowa wynosi 4%."
   ]
  },
  {
   "cell_type": "code",
   "execution_count": 32,
   "metadata": {
    "pycharm": {
     "name": "#%%\n"
    }
   },
   "outputs": [
    {
     "name": "stdout",
     "output_type": "stream",
     "text": [
      "trzeba poczekać 18 lat\n"
     ]
    }
   ],
   "source": [
    "i = 1000\n",
    "rok = 0\n",
    "while i < 2000:\n",
    "    i+= i*0.04\n",
    "    rok += 1\n",
    "print(f'trzeba poczekać {rok} lat')"
   ]
  },
  {
   "cell_type": "markdown",
   "metadata": {
    "pycharm": {
     "name": "#%% md\n"
    }
   },
   "source": [
    "#### Ćwiczenie 28\n",
    "\n",
    "Podane są zmienne podane poniżej:\n",
    "```python\n",
    "suma = 3000\n",
    "dzielnik = 0\n",
    "```\n",
    "Chcemy podzielić zmienną 'suma' przez zmienną 'dzielnik'. Wartość zmiennej można samodzielnie zmieniać. Używająć strukuty try: ... except: ... obsłuż wyjątek dzielenia przez 0. Jeżeli dzielenie zostanie wykonane wyświetl wynik, w przeciwnym wypdaku wyświetl tekst 'dzielenie przez zero'."
   ]
  },
  {
   "cell_type": "code",
   "execution_count": 33,
   "metadata": {
    "pycharm": {
     "name": "#%%\n"
    }
   },
   "outputs": [
    {
     "name": "stdout",
     "output_type": "stream",
     "text": [
      "dzielenie przez zero\n"
     ]
    }
   ],
   "source": [
    "suma = 3000\n",
    "dzielnik = 0\n",
    "try:\n",
    "    wynik = suma/dzielnik\n",
    "    print(wynik)\n",
    "except:\n",
    "    print('dzielenie przez zero')\n"
   ]
  },
  {
   "cell_type": "markdown",
   "metadata": {
    "pycharm": {
     "name": "#%% md\n"
    }
   },
   "source": [
    "#### Ćwiczenie 29\n",
    "\n",
    "Niekiedy chcemy otworzyć plik z dysku o pewnej nazwie, nie wiedząc czy plik taki istnieje. Napisz kod z struktuą try: ... except: ..., która obsłuży ten wyjątek.\n",
    "\n",
    "Fragment kodu niezbędny do otwarcia pliku:\n",
    "\n",
    "```python\n",
    "with open(\"dane.txt\",'r') as plik:\n",
    "    zawartosc = plik.read()\n",
    "```\n",
    "\n",
    "Jeżeli podany plik \"dane.txt\" nie istnieje wyświetl tekst: \"Nie znaleziono pliku\"."
   ]
  },
  {
   "cell_type": "code",
   "execution_count": 34,
   "metadata": {
    "pycharm": {
     "name": "#%%\n"
    }
   },
   "outputs": [
    {
     "name": "stdout",
     "output_type": "stream",
     "text": [
      "Nie znaleziono pliku\n"
     ]
    }
   ],
   "source": [
    "try:\n",
    "    with open(\"dane.txt\",'r') as plik:\n",
    "        zawartosc = plik.read()\n",
    "except:\n",
    "    print(\"Nie znaleziono pliku\")"
   ]
  },
  {
   "cell_type": "markdown",
   "metadata": {
    "pycharm": {
     "name": "#%% md\n"
    }
   },
   "source": [
    "#### Ćwiczenie 30\n",
    "\n",
    "Podany jest słownik:\n",
    "```python\n",
    "users = {'001': 'Marek', '002': 'Monika', '003': 'Jakub'}\n",
    "```\n",
    "Spróbuj wydrukować wartość ze słownika dla poniższego klucza:\n",
    "```python\n",
    "user_id = '004'\n",
    "```\n",
    "W przypadku błędu typu \"KeyError\" wyświetl tekst: \"Klucz 004 nie istnieje w słowniku. Dodawania klucza...\"\n",
    "\n",
    "Następnie dodaj ten klucz do słownika z wartością 'None'. Wyświetl słownik wynikowy."
   ]
  },
  {
   "cell_type": "code",
   "execution_count": 35,
   "metadata": {
    "pycharm": {
     "name": "#%%\n"
    }
   },
   "outputs": [
    {
     "name": "stdout",
     "output_type": "stream",
     "text": [
      "{'001': 'Marek', '002': 'Monika', '003': 'Jakub'}\n"
     ]
    }
   ],
   "source": [
    "def if_is_in_dict(users, user_id):\n",
    "    for key, value in users.items():\n",
    "        if key == user_id:\n",
    "            print(value)\n",
    "users = {'001': 'Marek', '002': 'Monika', '003': 'Jakub'}\n",
    "user_id = '004'\n",
    "try:\n",
    "    if_is_in_dict(users,user_id)\n",
    "except KeyError as e:\n",
    "    print('Klucz 004 nie istnieje w słowniku')\n",
    "    users[user_id] = None\n",
    "print(users)"
   ]
  },
  {
   "cell_type": "markdown",
   "metadata": {
    "pycharm": {
     "name": "#%% md\n"
    }
   },
   "source": [
    "#### Ćwiczenie 31\n",
    "\n",
    "Napisz kod, który wczyta plik 'spolki.txt', który zawiera dane notowań jednej spółki giełdowej, a następnie obliczy średnią cenę zamknięcia. Wyświetl wynik."
   ]
  },
  {
   "cell_type": "code",
   "execution_count": 35,
   "metadata": {
    "pycharm": {
     "name": "#%%\n"
    }
   },
   "outputs": [],
   "source": []
  },
  {
   "cell_type": "markdown",
   "metadata": {
    "pycharm": {
     "name": "#%% md\n"
    }
   },
   "source": [
    "#### Ćwiczenie 32\n",
    "\n",
    "Wczytaj plik 'indeksy.txt'. W każdej linii jest inna nazwa indeksu publikowanego przez GPW. Utwórz listę z nazwami indeksów rozpoczynających się od 'WIG'. Wyświetl wynik."
   ]
  },
  {
   "cell_type": "code",
   "execution_count": 35,
   "metadata": {
    "pycharm": {
     "name": "#%%\n"
    }
   },
   "outputs": [],
   "source": []
  },
  {
   "cell_type": "markdown",
   "metadata": {
    "pycharm": {
     "name": "#%% md\n"
    }
   },
   "source": [
    "#### Ćwiczenie 33\n",
    "\n",
    "Podany jest plik plw.txt zawierający notowania spółki. Plik wczytano w następujący sposób:\n",
    "\n",
    "```python\n",
    "with open('plw.csv', 'r') as file:\n",
    "    content = file.read().splitlines()\n",
    "```\n",
    "\n",
    "Przekształć zawartość zmiennej 'content' w taki sposób aby otrzymać słownik zwierający dwa klucze 'Data' i 'Zamknięcie'. Wartościami dla tych kluczy będą listy składające się z dat i cen zamknięcia. Ceny amknięcia skonwertuj na typ 'float'. Wyświetl wynik."
   ]
  },
  {
   "cell_type": "code",
   "execution_count": 35,
   "metadata": {
    "pycharm": {
     "name": "#%%\n"
    }
   },
   "outputs": [],
   "source": []
  },
  {
   "cell_type": "markdown",
   "metadata": {
    "pycharm": {
     "name": "#%% md\n"
    }
   },
   "source": [
    "#### Ćwiczenie 34\n",
    "\n",
    "Podany jest plik plw.txt zawierający notowania spółki. Plik wczytano w następujący sposób:\n",
    "\n",
    "```python\n",
    "with open('plw.csv', 'r') as file:\n",
    "    content = file.read().splitlines()\n",
    "```\n",
    "\n",
    "Znajdź największą wartość wolumenu w podanym miesiącu. Wyświetl wynik"
   ]
  },
  {
   "cell_type": "code",
   "execution_count": 35,
   "metadata": {
    "pycharm": {
     "name": "#%%\n"
    }
   },
   "outputs": [],
   "source": []
  },
  {
   "cell_type": "markdown",
   "metadata": {
    "pycharm": {
     "name": "#%% md\n"
    }
   },
   "source": [
    "#### Ćwiczenie 35\n",
    "\n",
    "Podany jest plik plw.txt zawierający notowania spółki. Plik wczytano w następujący sposób:\n",
    "\n",
    "```python\n",
    "with open('plw.csv', 'r') as file:\n",
    "    content = file.read().splitlines()\n",
    "```\n",
    "\n",
    "Znajdź dzień z największą wartością wolumenu w podanym miesiącu. Wyświetl wynik."
   ]
  },
  {
   "cell_type": "code",
   "execution_count": 35,
   "metadata": {
    "pycharm": {
     "name": "#%%\n"
    }
   },
   "outputs": [],
   "source": []
  },
  {
   "cell_type": "markdown",
   "metadata": {
    "pycharm": {
     "name": "#%% md\n"
    }
   },
   "source": [
    "#### Ćwiczenie 36\n",
    "\n",
    "Wygeneruj wszystkie liczby parzyste od 2 do 18 włącznie. Następnie zapisz każdą liczbę w osobnej linii do pliku 'num.txt'."
   ]
  },
  {
   "cell_type": "code",
   "execution_count": 42,
   "metadata": {
    "pycharm": {
     "name": "#%%\n"
    }
   },
   "outputs": [
    {
     "name": "stdout",
     "output_type": "stream",
     "text": [
      "2 \n",
      "\n",
      "4 \n",
      "\n",
      "6 \n",
      "\n",
      "8 \n",
      "\n",
      "10 \n",
      "\n",
      "12 \n",
      "\n",
      "14 \n",
      "\n",
      "16 \n",
      "\n"
     ]
    }
   ],
   "source": [
    "for i in range(2,18):\n",
    "    if i%2 == 0:\n",
    "        with open(\"num.txt\",\"a\") as file:\n",
    "            file.write(f'{i} \\n')\n",
    "            breakpoint()\n",
    "\n",
    "\n",
    "with open(\"num.txt\",\"rt\") as file:\n",
    "    for line in file:\n",
    "        print(line)\n",
    "\n"
   ]
  },
  {
   "cell_type": "markdown",
   "metadata": {
    "pycharm": {
     "name": "#%% md\n"
    }
   },
   "source": [
    "#### Ćwiczenie 37\n",
    "\n",
    "Podane są dwie listy:\n",
    "```python\n",
    "headers = ['user_id', 'amount']\n",
    "users = [['001', '1400'], ['004', '1300'], ['007', '900']]\n",
    "```\n",
    "Zapisz powyższe dane do pliku 'users.csv'"
   ]
  },
  {
   "cell_type": "code",
   "execution_count": 36,
   "metadata": {
    "pycharm": {
     "name": "#%%\n"
    }
   },
   "outputs": [],
   "source": []
  },
  {
   "cell_type": "markdown",
   "metadata": {
    "pycharm": {
     "name": "#%% md\n"
    }
   },
   "source": [
    "#### Ćwiczenie 38\n",
    "\n",
    "Podana jest zmienna x:\n",
    "```python\n",
    "x=-1.5\n",
    "```\n",
    "oraz podane jest następujące wyrażenie:\n",
    "```python\n",
    "wyr = 'x**2 + x'\n",
    "```\n",
    "Znajdź funkcję Python'a, która obliczy wartość podanego wyrażenia. "
   ]
  },
  {
   "cell_type": "code",
   "execution_count": 36,
   "metadata": {
    "pycharm": {
     "name": "#%%\n"
    }
   },
   "outputs": [],
   "source": []
  },
  {
   "cell_type": "markdown",
   "metadata": {
    "pycharm": {
     "name": "#%% md\n"
    }
   },
   "source": [
    "#### Ćwiczenie 39\n",
    "\n",
    "Podane są zmienne:\n",
    "```python\n",
    "var1 = 'Python'\n",
    "var2 = ('Python')\n",
    "var3 = ('Python',)\n",
    "var4 = ['Python']\n",
    "var5 = {'Python'}\n",
    "```\n",
    "Używając odpowiedniej funkcji sprawdź, czy podane zmienne są typu tuple."
   ]
  },
  {
   "cell_type": "code",
   "execution_count": 36,
   "metadata": {
    "pycharm": {
     "name": "#%%\n"
    }
   },
   "outputs": [],
   "source": []
  },
  {
   "cell_type": "markdown",
   "metadata": {
    "pycharm": {
     "name": "#%% md\n"
    }
   },
   "source": [
    "#### Ćwiczenie 40\n",
    "\n",
    "Podana jest lista:\n",
    "```python\n",
    "characters = ['k', 'b', 'c', 'j', 'z', 'w']\n",
    "```\n",
    "Wykorzystując funkcje wbudowane zwróć pierwszą i ostatnią literę ułożonych w kolejności alfabetycznej liter z listy."
   ]
  },
  {
   "cell_type": "code",
   "execution_count": 36,
   "metadata": {
    "pycharm": {
     "name": "#%%\n"
    }
   },
   "outputs": [],
   "source": []
  },
  {
   "cell_type": "markdown",
   "metadata": {
    "pycharm": {
     "name": "#%% md\n"
    }
   },
   "source": [
    "#### Ćwiczenie 41\n",
    "\n",
    "Podane są dwie tuple:\n",
    "```python\n",
    "ticker = ('TEN', 'PLW', 'CDR')\n",
    "full_name = ('Ten Square Games', 'Playway', 'CD Projekt')\n",
    "```\n",
    "Używając funkcji wbudowanych utwórz listę składającą się z elementów typu tupla (ticker, full_name)."
   ]
  },
  {
   "cell_type": "code",
   "execution_count": 36,
   "metadata": {
    "pycharm": {
     "name": "#%%\n"
    }
   },
   "outputs": [],
   "source": []
  },
  {
   "cell_type": "markdown",
   "metadata": {
    "pycharm": {
     "name": "#%% md\n"
    }
   },
   "source": [
    "#### Ćwiczenie 42\n",
    "\n",
    "Używając odpowiedniej funkcji wbudowanej sprawdź, czy wszuystkie elementy poniższej zmiennej zwracają wartość logiczną TRUE.\n",
    "```python\n",
    "items = (' ', '0', 0.1, True)\n",
    "```"
   ]
  },
  {
   "cell_type": "markdown",
   "metadata": {
    "pycharm": {
     "name": "#%% md\n"
    }
   },
   "source": [
    "#### Ćwiczenie 43\n",
    "\n",
    "Używając odpowiedniej funkcji wbudowanej sprawdź, czy jakikolwiek element poniżeszej zmiennej zwraca wartość logiczną TRUE.\n",
    "```python\n",
    "items = ('', 0.0, 0, False)\n",
    "```"
   ]
  },
  {
   "cell_type": "code",
   "execution_count": 36,
   "metadata": {
    "pycharm": {
     "name": "#%%\n"
    }
   },
   "outputs": [],
   "source": []
  },
  {
   "cell_type": "markdown",
   "metadata": {
    "pycharm": {
     "name": "#%% md\n"
    }
   },
   "source": [
    "#### Ćwiczenie 44\n",
    "\n",
    "Zlicz liczbę jedynek w binarnej reprezentacji liczby podanej w zmiennej:\n",
    "```python\n",
    "liczba = 234\n",
    "```\n",
    "Użyj funkcji wbudowanej."
   ]
  },
  {
   "cell_type": "code",
   "execution_count": 36,
   "metadata": {
    "pycharm": {
     "name": "#%%\n"
    }
   },
   "outputs": [],
   "source": []
  },
  {
   "cell_type": "markdown",
   "metadata": {
    "pycharm": {
     "name": "#%% md\n"
    }
   },
   "source": [
    "#### Ćwiczenie 45\n",
    "\n",
    "Zdefiniuj własną funkcję o nazwie 'maksimum', która wyznaczy maksimum z dwóch podanych liczb. Nie używaj funkcji wbudowanej 'max'."
   ]
  },
  {
   "cell_type": "code",
   "execution_count": 36,
   "metadata": {
    "pycharm": {
     "name": "#%%\n"
    }
   },
   "outputs": [],
   "source": []
  },
  {
   "cell_type": "markdown",
   "metadata": {
    "pycharm": {
     "name": "#%% md\n"
    }
   },
   "source": [
    "#### Ćwiczenie 46\n",
    "\n",
    "Zdefiniuj własną funkcję o nazwie 'maksimum', która wyznaczy maksimum z trzech podanych liczb. Nie używaj funkcji wbudowanej 'max'."
   ]
  },
  {
   "cell_type": "code",
   "execution_count": 36,
   "metadata": {
    "pycharm": {
     "name": "#%%\n"
    }
   },
   "outputs": [],
   "source": []
  },
  {
   "cell_type": "markdown",
   "metadata": {
    "pycharm": {
     "name": "#%% md\n"
    }
   },
   "source": [
    "#### Ćwiczenie 47\n",
    "\n",
    "Zdefiniuj funkcję o nazwie multi, która jako parametr przyjmie zmienną typu lista oraz obliczy iloczyn wszystkich jej elementów."
   ]
  },
  {
   "cell_type": "code",
   "execution_count": 36,
   "metadata": {
    "pycharm": {
     "name": "#%%\n"
    }
   },
   "outputs": [],
   "source": []
  },
  {
   "cell_type": "markdown",
   "metadata": {
    "pycharm": {
     "name": "#%% md\n"
    }
   },
   "source": [
    "#### Ćwiczenie 48\n",
    "\n",
    "Napisz funkcje map_dl, której argumentem będzie lista słów, a wynikiem długość najdłuższego podaneg słowa."
   ]
  },
  {
   "cell_type": "code",
   "execution_count": 36,
   "metadata": {
    "pycharm": {
     "name": "#%%\n"
    }
   },
   "outputs": [],
   "source": []
  },
  {
   "cell_type": "markdown",
   "metadata": {
    "pycharm": {
     "name": "#%% md\n"
    }
   },
   "source": [
    "#### Ćwiczenie 48\n",
    "\n",
    "Napisz funkcje map_6, której argumentem będzie lista słów, a wynikiem będzie lista słów składających się z 6-ciu lub więcej znaków."
   ]
  },
  {
   "cell_type": "markdown",
   "metadata": {
    "pycharm": {
     "name": "#%% md\n"
    }
   },
   "source": [
    "#### Ćwiczenie 49\n",
    "\n",
    "Napisz funkcje o nazwie silnia, która obliczy wartość silni podanej liczby."
   ]
  },
  {
   "cell_type": "code",
   "execution_count": 62,
   "metadata": {
    "pycharm": {
     "name": "#%%\n"
    }
   },
   "outputs": [
    {
     "name": "stdout",
     "output_type": "stream",
     "text": [
      "24\n"
     ]
    }
   ],
   "source": [
    "def silnia(liczba:int):\n",
    "    wynik = 1\n",
    "    for i in range(1,liczba):\n",
    "        wynik += wynik * i\n",
    "    print(wynik)\n",
    "\n",
    "silnia(4)"
   ]
  },
  {
   "cell_type": "markdown",
   "metadata": {
    "pycharm": {
     "name": "#%% md\n"
    }
   },
   "source": [
    "#### Ćwiczenie 50\n",
    "\n",
    "Napisz funkcję licz_str, która obliczy liczbę elementów typu str w podanej liście heterogenicznej."
   ]
  },
  {
   "cell_type": "code",
   "execution_count": 36,
   "metadata": {
    "pycharm": {
     "name": "#%%\n"
    }
   },
   "outputs": [],
   "source": [
    "def licz_str(lista):\n",
    "    for i in lista:\n",
    "        if type(i) == str :\n",
    "            print(f'Znaleziono string {i} i dlugosc tego stringa wynosi {len(i)}')\n",
    "\n",
    "lista_heterogeniczna = ['a',2,'b',3,'abc','piesek','kotek']\n",
    "licz_str(lista_heterogeniczna)"
   ]
  },
  {
   "cell_type": "markdown",
   "metadata": {
    "pycharm": {
     "name": "#%% md\n"
    }
   },
   "source": [
    "#### Ćwiczenie 51\n",
    "\n",
    "Napisz funkcję licz_str, która obliczy liczbę elementów typu str o długości powyżej 2-ch znaków w podanej liście heterogenicznej."
   ]
  },
  {
   "cell_type": "code",
   "execution_count": 56,
   "metadata": {
    "pycharm": {
     "name": "#%%\n"
    }
   },
   "outputs": [
    {
     "name": "stdout",
     "output_type": "stream",
     "text": [
      "Znaleziono string który ma więcej niż dwa znaki jest to abc i dlugosc tego stringa wynosi 3\n",
      "Znaleziono string który ma więcej niż dwa znaki jest to piesek i dlugosc tego stringa wynosi 6\n",
      "Znaleziono string który ma więcej niż dwa znaki jest to kotek i dlugosc tego stringa wynosi 5\n"
     ]
    }
   ],
   "source": [
    "def licz_str(lista):\n",
    "    for i in lista:\n",
    "        if type(i) == str and len(i) > 2:\n",
    "            print(f'Znaleziono string który ma więcej niż dwa znaki jest to {i} i dlugosc tego stringa wynosi {len(i)}')\n",
    "\n",
    "lista_heterogeniczna = ['a',2,'b',3,'abc','piesek','kotek']\n",
    "licz_str(lista_heterogeniczna)"
   ]
  },
  {
   "cell_type": "markdown",
   "metadata": {
    "pycharm": {
     "name": "#%% md\n"
    }
   },
   "source": [
    "#### Ćwiczenie 52\n",
    "\n",
    "Napisz funkcję rm_dupli, która usunie zduplikowane elementy z podanej listy (kolejność elementów nie musi zostać zachowana)."
   ]
  },
  {
   "cell_type": "code",
   "execution_count": 55,
   "metadata": {
    "pycharm": {
     "name": "#%%\n"
    }
   },
   "outputs": [
    {
     "name": "stdout",
     "output_type": "stream",
     "text": [
      "['pies', 'chomik', 'kot']\n"
     ]
    }
   ],
   "source": [
    "def rm_dupli(lista):\n",
    "    for i in lista.copy():\n",
    "        ile=0\n",
    "        for ii in lista.copy():\n",
    "            if str(i) == str(ii):\n",
    "                ile += 1\n",
    "                if ile == 1:\n",
    "                    continue\n",
    "                lista.remove(ii)\n",
    "\n",
    "lista_duplicate = ['kot','pies','kot','chomik','kot']\n",
    "rm_dupli(lista_duplicate)\n",
    "print(lista_duplicate)\n"
   ]
  },
  {
   "cell_type": "markdown",
   "metadata": {
    "pycharm": {
     "name": "#%% md\n"
    }
   },
   "source": [
    "#### Ćwiczenie 53\n",
    "\n",
    "napisz funkcję unikaty, która sprawdzi, czy lista zawiera wyłącznie unikalne wartości."
   ]
  },
  {
   "cell_type": "code",
   "execution_count": 53,
   "metadata": {
    "pycharm": {
     "name": "#%%\n"
    }
   },
   "outputs": [
    {
     "data": {
      "text/plain": "'lista posiada unikalne wartości'"
     },
     "execution_count": 53,
     "metadata": {},
     "output_type": "execute_result"
    }
   ],
   "source": [
    "def unikat(lista):\n",
    "    for i in lista:\n",
    "        ile=0\n",
    "        for ii in lista:\n",
    "            if str(i) == str(ii):\n",
    "                ile += 1\n",
    "                if ile == 1:\n",
    "                    continue\n",
    "                return('lista nie posiada unikalnych elementów')\n",
    "    return('lista posiada unikalne wartości')\n",
    "\n",
    "unikalna_lista = ['a','b', 1 ,'c','samochodzik','rower','domek','@']\n",
    "unikat(unikalna_lista)"
   ]
  },
  {
   "cell_type": "markdown",
   "metadata": {
    "pycharm": {
     "name": "#%% md\n"
    }
   },
   "source": [
    "#### Ćwiczenie 54\n",
    "\n",
    "Zdefiniuj funkcje palidrom, która za argument przyjmuje ciąg znaków i sprawdzi czy jest on palidromem (wyrażeniem brzmiącym tak samo czytanym od początku i od końca np. potp, kajak)."
   ]
  },
  {
   "cell_type": "code",
   "execution_count": 44,
   "metadata": {
    "pycharm": {
     "name": "#%%\n"
    }
   },
   "outputs": [
    {
     "name": "stdout",
     "output_type": "stream",
     "text": [
      "the word is not a palindrome\n"
     ]
    }
   ],
   "source": [
    "def if_palindrom(word: str):\n",
    "    reversed_word = word[::-1]\n",
    "    if reversed_word == word:\n",
    "        return print('the word is a palindrome')\n",
    "    else:\n",
    "        return print('the word is not a palindrome')\n",
    "\n",
    "\n",
    "try:\n",
    "    input_word = str(input('Word: '))\n",
    "except:\n",
    "    print('Error')\n",
    "\n",
    "if_palindrom(input_word)\n"
   ]
  }
 ],
 "metadata": {
  "kernelspec": {
   "display_name": "Python 3 (ipykernel)",
   "language": "python",
   "name": "python3"
  },
  "language_info": {
   "codemirror_mode": {
    "name": "ipython",
    "version": 3
   },
   "file_extension": ".py",
   "mimetype": "text/x-python",
   "name": "python",
   "nbconvert_exporter": "python",
   "pygments_lexer": "ipython3",
   "version": "3.8.0"
  }
 },
 "nbformat": 4,
 "nbformat_minor": 4
}